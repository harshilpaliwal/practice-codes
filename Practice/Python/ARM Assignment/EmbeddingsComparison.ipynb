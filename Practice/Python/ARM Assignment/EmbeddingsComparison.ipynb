{
  "nbformat": 4,
  "nbformat_minor": 0,
  "metadata": {
    "colab": {
      "name": "EmbeddingsComparison.ipynb",
      "provenance": [],
      "machine_shape": "hm"
    },
    "kernelspec": {
      "name": "python3",
      "display_name": "Python 3"
    }
  },
  "cells": [
    {
      "cell_type": "code",
      "metadata": {
        "id": "p8WSsWfvjANS",
        "colab_type": "code",
        "colab": {}
      },
      "source": [
        "!pip install tiny-tokenizer"
      ],
      "execution_count": 0,
      "outputs": []
    },
    {
      "cell_type": "code",
      "metadata": {
        "id": "pGOYQmY3z7Bh",
        "colab_type": "code",
        "colab": {}
      },
      "source": [
        "!pip install flair"
      ],
      "execution_count": 0,
      "outputs": []
    },
    {
      "cell_type": "code",
      "metadata": {
        "id": "pQmUD-cKj-cK",
        "colab_type": "code",
        "outputId": "1ee9c619-0c54-41cc-8aec-55fc3edd4b08",
        "colab": {
          "base_uri": "https://localhost:8080/",
          "height": 1000
        }
      },
      "source": [
        "!pip install allennlp"
      ],
      "execution_count": 0,
      "outputs": [
        {
          "output_type": "stream",
          "text": [
            "Requirement already satisfied: allennlp in /usr/local/lib/python3.6/dist-packages (0.9.0)\n",
            "Requirement already satisfied: nltk in /usr/local/lib/python3.6/dist-packages (from allennlp) (3.2.5)\n",
            "Requirement already satisfied: tqdm>=4.19 in /usr/local/lib/python3.6/dist-packages (from allennlp) (4.28.1)\n",
            "Requirement already satisfied: scikit-learn in /usr/local/lib/python3.6/dist-packages (from allennlp) (0.21.3)\n",
            "Requirement already satisfied: pytorch-pretrained-bert>=0.6.0 in /usr/local/lib/python3.6/dist-packages (from allennlp) (0.6.2)\n",
            "Requirement already satisfied: editdistance in /usr/local/lib/python3.6/dist-packages (from allennlp) (0.5.3)\n",
            "Requirement already satisfied: conllu==1.3.1 in /usr/local/lib/python3.6/dist-packages (from allennlp) (1.3.1)\n",
            "Requirement already satisfied: scipy in /usr/local/lib/python3.6/dist-packages (from allennlp) (1.3.3)\n",
            "Requirement already satisfied: spacy<2.2,>=2.1.0 in /usr/local/lib/python3.6/dist-packages (from allennlp) (2.1.9)\n",
            "Requirement already satisfied: flaky in /usr/local/lib/python3.6/dist-packages (from allennlp) (3.6.1)\n",
            "Requirement already satisfied: responses>=0.7 in /usr/local/lib/python3.6/dist-packages (from allennlp) (0.10.9)\n",
            "Requirement already satisfied: pytorch-transformers==1.1.0 in /usr/local/lib/python3.6/dist-packages (from allennlp) (1.1.0)\n",
            "Requirement already satisfied: jsonnet>=0.10.0; sys_platform != \"win32\" in /usr/local/lib/python3.6/dist-packages (from allennlp) (0.14.0)\n",
            "Requirement already satisfied: h5py in /usr/local/lib/python3.6/dist-packages (from allennlp) (2.8.0)\n",
            "Requirement already satisfied: torch>=1.2.0 in /usr/local/lib/python3.6/dist-packages (from allennlp) (1.3.1)\n",
            "Requirement already satisfied: flask-cors>=3.0.7 in /usr/local/lib/python3.6/dist-packages (from allennlp) (3.0.8)\n",
            "Requirement already satisfied: numpy in /usr/local/lib/python3.6/dist-packages (from allennlp) (1.17.4)\n",
            "Requirement already satisfied: gevent>=1.3.6 in /usr/local/lib/python3.6/dist-packages (from allennlp) (1.4.0)\n",
            "Requirement already satisfied: sqlparse>=0.2.4 in /usr/local/lib/python3.6/dist-packages (from allennlp) (0.3.0)\n",
            "Requirement already satisfied: tensorboardX>=1.2 in /usr/local/lib/python3.6/dist-packages (from allennlp) (2.0)\n",
            "Requirement already satisfied: requests>=2.18 in /usr/local/lib/python3.6/dist-packages (from allennlp) (2.21.0)\n",
            "Requirement already satisfied: ftfy in /usr/local/lib/python3.6/dist-packages (from allennlp) (5.6)\n",
            "Requirement already satisfied: pytest in /usr/local/lib/python3.6/dist-packages (from allennlp) (3.6.4)\n",
            "Requirement already satisfied: word2number>=1.1 in /usr/local/lib/python3.6/dist-packages (from allennlp) (1.1)\n",
            "Requirement already satisfied: boto3 in /usr/local/lib/python3.6/dist-packages (from allennlp) (1.10.40)\n",
            "Requirement already satisfied: pytz>=2017.3 in /usr/local/lib/python3.6/dist-packages (from allennlp) (2018.9)\n",
            "Requirement already satisfied: parsimonious>=0.8.0 in /usr/local/lib/python3.6/dist-packages (from allennlp) (0.8.1)\n",
            "Requirement already satisfied: jsonpickle in /usr/local/lib/python3.6/dist-packages (from allennlp) (1.2)\n",
            "Requirement already satisfied: numpydoc>=0.8.0 in /usr/local/lib/python3.6/dist-packages (from allennlp) (0.9.2)\n",
            "Requirement already satisfied: flask>=1.0.2 in /usr/local/lib/python3.6/dist-packages (from allennlp) (1.1.1)\n",
            "Requirement already satisfied: unidecode in /usr/local/lib/python3.6/dist-packages (from allennlp) (1.1.1)\n",
            "Requirement already satisfied: matplotlib>=2.2.3 in /usr/local/lib/python3.6/dist-packages (from allennlp) (3.1.2)\n",
            "Requirement already satisfied: overrides in /usr/local/lib/python3.6/dist-packages (from allennlp) (2.8.0)\n",
            "Requirement already satisfied: six in /usr/local/lib/python3.6/dist-packages (from nltk->allennlp) (1.12.0)\n",
            "Requirement already satisfied: joblib>=0.11 in /usr/local/lib/python3.6/dist-packages (from scikit-learn->allennlp) (0.14.1)\n",
            "Requirement already satisfied: regex in /usr/local/lib/python3.6/dist-packages (from pytorch-pretrained-bert>=0.6.0->allennlp) (2019.12.9)\n",
            "Requirement already satisfied: thinc<7.1.0,>=7.0.8 in /usr/local/lib/python3.6/dist-packages (from spacy<2.2,>=2.1.0->allennlp) (7.0.8)\n",
            "Requirement already satisfied: wasabi<1.1.0,>=0.2.0 in /usr/local/lib/python3.6/dist-packages (from spacy<2.2,>=2.1.0->allennlp) (0.4.2)\n",
            "Requirement already satisfied: blis<0.3.0,>=0.2.2 in /usr/local/lib/python3.6/dist-packages (from spacy<2.2,>=2.1.0->allennlp) (0.2.4)\n",
            "Requirement already satisfied: murmurhash<1.1.0,>=0.28.0 in /usr/local/lib/python3.6/dist-packages (from spacy<2.2,>=2.1.0->allennlp) (1.0.2)\n",
            "Requirement already satisfied: srsly<1.1.0,>=0.0.6 in /usr/local/lib/python3.6/dist-packages (from spacy<2.2,>=2.1.0->allennlp) (0.2.0)\n",
            "Requirement already satisfied: plac<1.0.0,>=0.9.6 in /usr/local/lib/python3.6/dist-packages (from spacy<2.2,>=2.1.0->allennlp) (0.9.6)\n",
            "Requirement already satisfied: preshed<2.1.0,>=2.0.1 in /usr/local/lib/python3.6/dist-packages (from spacy<2.2,>=2.1.0->allennlp) (2.0.1)\n",
            "Requirement already satisfied: cymem<2.1.0,>=2.0.2 in /usr/local/lib/python3.6/dist-packages (from spacy<2.2,>=2.1.0->allennlp) (2.0.3)\n",
            "Requirement already satisfied: sentencepiece in /usr/local/lib/python3.6/dist-packages (from pytorch-transformers==1.1.0->allennlp) (0.1.85)\n",
            "Requirement already satisfied: greenlet>=0.4.14; platform_python_implementation == \"CPython\" in /usr/local/lib/python3.6/dist-packages (from gevent>=1.3.6->allennlp) (0.4.15)\n",
            "Requirement already satisfied: protobuf>=3.8.0 in /usr/local/lib/python3.6/dist-packages (from tensorboardX>=1.2->allennlp) (3.10.0)\n",
            "Requirement already satisfied: idna<2.9,>=2.5 in /usr/local/lib/python3.6/dist-packages (from requests>=2.18->allennlp) (2.8)\n",
            "Requirement already satisfied: certifi>=2017.4.17 in /usr/local/lib/python3.6/dist-packages (from requests>=2.18->allennlp) (2019.11.28)\n",
            "Requirement already satisfied: urllib3<1.25,>=1.21.1 in /usr/local/lib/python3.6/dist-packages (from requests>=2.18->allennlp) (1.24.3)\n",
            "Requirement already satisfied: chardet<3.1.0,>=3.0.2 in /usr/local/lib/python3.6/dist-packages (from requests>=2.18->allennlp) (3.0.4)\n",
            "Requirement already satisfied: wcwidth in /usr/local/lib/python3.6/dist-packages (from ftfy->allennlp) (0.1.7)\n",
            "Requirement already satisfied: setuptools in /usr/local/lib/python3.6/dist-packages (from pytest->allennlp) (42.0.2)\n",
            "Requirement already satisfied: attrs>=17.4.0 in /usr/local/lib/python3.6/dist-packages (from pytest->allennlp) (19.3.0)\n",
            "Requirement already satisfied: atomicwrites>=1.0 in /usr/local/lib/python3.6/dist-packages (from pytest->allennlp) (1.3.0)\n",
            "Requirement already satisfied: pluggy<0.8,>=0.5 in /usr/local/lib/python3.6/dist-packages (from pytest->allennlp) (0.7.1)\n",
            "Requirement already satisfied: more-itertools>=4.0.0 in /usr/local/lib/python3.6/dist-packages (from pytest->allennlp) (8.0.2)\n",
            "Requirement already satisfied: py>=1.5.0 in /usr/local/lib/python3.6/dist-packages (from pytest->allennlp) (1.8.0)\n",
            "Requirement already satisfied: s3transfer<0.3.0,>=0.2.0 in /usr/local/lib/python3.6/dist-packages (from boto3->allennlp) (0.2.1)\n",
            "Requirement already satisfied: botocore<1.14.0,>=1.13.40 in /usr/local/lib/python3.6/dist-packages (from boto3->allennlp) (1.13.40)\n",
            "Requirement already satisfied: jmespath<1.0.0,>=0.7.1 in /usr/local/lib/python3.6/dist-packages (from boto3->allennlp) (0.9.4)\n",
            "Requirement already satisfied: Jinja2>=2.3 in /usr/local/lib/python3.6/dist-packages (from numpydoc>=0.8.0->allennlp) (2.10.3)\n",
            "Requirement already satisfied: sphinx>=1.6.5 in /usr/local/lib/python3.6/dist-packages (from numpydoc>=0.8.0->allennlp) (1.8.5)\n",
            "Requirement already satisfied: Werkzeug>=0.15 in /usr/local/lib/python3.6/dist-packages (from flask>=1.0.2->allennlp) (0.16.0)\n",
            "Requirement already satisfied: click>=5.1 in /usr/local/lib/python3.6/dist-packages (from flask>=1.0.2->allennlp) (7.0)\n",
            "Requirement already satisfied: itsdangerous>=0.24 in /usr/local/lib/python3.6/dist-packages (from flask>=1.0.2->allennlp) (1.1.0)\n",
            "Requirement already satisfied: pyparsing!=2.0.4,!=2.1.2,!=2.1.6,>=2.0.1 in /usr/local/lib/python3.6/dist-packages (from matplotlib>=2.2.3->allennlp) (2.4.5)\n",
            "Requirement already satisfied: cycler>=0.10 in /usr/local/lib/python3.6/dist-packages (from matplotlib>=2.2.3->allennlp) (0.10.0)\n",
            "Requirement already satisfied: python-dateutil>=2.1 in /usr/local/lib/python3.6/dist-packages (from matplotlib>=2.2.3->allennlp) (2.6.1)\n",
            "Requirement already satisfied: kiwisolver>=1.0.1 in /usr/local/lib/python3.6/dist-packages (from matplotlib>=2.2.3->allennlp) (1.1.0)\n",
            "Requirement already satisfied: docutils<0.16,>=0.10 in /usr/local/lib/python3.6/dist-packages (from botocore<1.14.0,>=1.13.40->boto3->allennlp) (0.15.2)\n",
            "Requirement already satisfied: MarkupSafe>=0.23 in /usr/local/lib/python3.6/dist-packages (from Jinja2>=2.3->numpydoc>=0.8.0->allennlp) (1.1.1)\n",
            "Requirement already satisfied: alabaster<0.8,>=0.7 in /usr/local/lib/python3.6/dist-packages (from sphinx>=1.6.5->numpydoc>=0.8.0->allennlp) (0.7.12)\n",
            "Requirement already satisfied: snowballstemmer>=1.1 in /usr/local/lib/python3.6/dist-packages (from sphinx>=1.6.5->numpydoc>=0.8.0->allennlp) (2.0.0)\n",
            "Requirement already satisfied: Pygments>=2.0 in /usr/local/lib/python3.6/dist-packages (from sphinx>=1.6.5->numpydoc>=0.8.0->allennlp) (2.1.3)\n",
            "Requirement already satisfied: babel!=2.0,>=1.3 in /usr/local/lib/python3.6/dist-packages (from sphinx>=1.6.5->numpydoc>=0.8.0->allennlp) (2.7.0)\n",
            "Requirement already satisfied: imagesize in /usr/local/lib/python3.6/dist-packages (from sphinx>=1.6.5->numpydoc>=0.8.0->allennlp) (1.1.0)\n",
            "Requirement already satisfied: packaging in /usr/local/lib/python3.6/dist-packages (from sphinx>=1.6.5->numpydoc>=0.8.0->allennlp) (19.2)\n",
            "Requirement already satisfied: sphinxcontrib-websupport in /usr/local/lib/python3.6/dist-packages (from sphinx>=1.6.5->numpydoc>=0.8.0->allennlp) (1.1.2)\n"
          ],
          "name": "stdout"
        }
      ]
    },
    {
      "cell_type": "code",
      "metadata": {
        "id": "bIjYIhbT0Llf",
        "colab_type": "code",
        "outputId": "bf15e6bb-8027-4183-f95c-77f86c5a63c5",
        "colab": {
          "base_uri": "https://localhost:8080/",
          "height": 63
        }
      },
      "source": [
        "import numpy as np\n",
        "import pandas as pd\n",
        "from flair.embeddings import Sentence\n",
        "from flair.embeddings import FlairEmbeddings, BertEmbeddings, ELMoEmbeddings\n",
        "from flair.embeddings import DocumentPoolEmbeddings\n",
        "from sklearn.tree import DecisionTreeClassifier\n",
        "from sklearn.metrics import accuracy_score\n",
        "from sklearn.metrics import f1_score\n",
        "from google.colab import files\n",
        "from datetime import datetime"
      ],
      "execution_count": 0,
      "outputs": [
        {
          "output_type": "display_data",
          "data": {
            "text/html": [
              "<p style=\"color: red;\">\n",
              "The default version of TensorFlow in Colab will soon switch to TensorFlow 2.x.<br>\n",
              "We recommend you <a href=\"https://www.tensorflow.org/guide/migrate\" target=\"_blank\">upgrade</a> now \n",
              "or ensure your notebook will continue to use TensorFlow 1.x via the <code>%tensorflow_version 1.x</code> magic:\n",
              "<a href=\"https://colab.research.google.com/notebooks/tensorflow_version.ipynb\" target=\"_blank\">more info</a>.</p>\n"
            ],
            "text/plain": [
              "<IPython.core.display.HTML object>"
            ]
          },
          "metadata": {
            "tags": []
          }
        }
      ]
    },
    {
      "cell_type": "code",
      "metadata": {
        "id": "xLmJEklT0a-F",
        "colab_type": "code",
        "colab": {}
      },
      "source": [
        "bert_embedding = BertEmbeddings()\n",
        "bert_train_document_embeddings = DocumentPoolEmbeddings([bert_embedding])\n",
        "bert_test_document_embeddings = DocumentPoolEmbeddings([bert_embedding])"
      ],
      "execution_count": 0,
      "outputs": []
    },
    {
      "cell_type": "code",
      "metadata": {
        "id": "x6vhIJL8JddZ",
        "colab_type": "code",
        "colab": {}
      },
      "source": [
        "#requires allennlp\n",
        "elmo_embedding = ELMoEmbeddings()\n",
        "elmo_train_document_embeddings = DocumentPoolEmbeddings([elmo_embedding])\n",
        "elmo_test_document_embeddings = DocumentPoolEmbeddings([elmo_embedding])"
      ],
      "execution_count": 0,
      "outputs": []
    },
    {
      "cell_type": "code",
      "metadata": {
        "id": "o0PC4FtMLB8A",
        "colab_type": "code",
        "colab": {}
      },
      "source": [
        "flair_embedding_forward = FlairEmbeddings('news-forward')\n",
        "flair_train_document_embeddings = DocumentPoolEmbeddings([flair_embedding_forward])\n",
        "flair_test_document_embeddings = DocumentPoolEmbeddings([flair_embedding_forward])"
      ],
      "execution_count": 0,
      "outputs": []
    },
    {
      "cell_type": "code",
      "metadata": {
        "id": "JlEO-7uj0j8_",
        "colab_type": "code",
        "colab": {}
      },
      "source": [
        "uploaded = files.upload()"
      ],
      "execution_count": 0,
      "outputs": []
    },
    {
      "cell_type": "code",
      "metadata": {
        "id": "Id3s8_Ot1jPf",
        "colab_type": "code",
        "colab": {}
      },
      "source": [
        "data = pd.read_csv(\"finalDataset.csv\")"
      ],
      "execution_count": 0,
      "outputs": []
    },
    {
      "cell_type": "code",
      "metadata": {
        "id": "DMNMFeHP0zDI",
        "colab_type": "code",
        "outputId": "95b3391b-7cf3-4b6b-9ba3-c77f88f63cea",
        "colab": {
          "base_uri": "https://localhost:8080/",
          "height": 544
        }
      },
      "source": [
        "# BERT\n",
        "\n",
        "for count in range (30):\n",
        "  start_time = datetime.now()\n",
        "  train_sentences = []\n",
        "  train_labels = []\n",
        "  test_sentences = []\n",
        "  test_labels = []\n",
        "  for row in data.itertuples():\n",
        "    count_id = int(row.no)\n",
        "    sentence = Sentence(row.text)\n",
        "    label = row.label\n",
        "    if count_id == count:\n",
        "      test_sentences.append(sentence)\n",
        "      test_labels.append(label)\n",
        "    else:\n",
        "      train_sentences.append(sentence)\n",
        "      train_labels.append(label)\n",
        "\n",
        "  #Training Embeddings:\n",
        "  train_embeddings = []\n",
        "  # since processing requires some memory we provide sentences into the document embedder in batches (small parts)\n",
        "  for n in range(0, 5000, 250):  \n",
        "    sents = train_sentences[n:n+250]\n",
        "    bert_train_document_embeddings.embed(sents)\n",
        "    train_embeddings += [np.array(sentence.get_embedding().detach()) for sentence in sents]\n",
        "\n",
        "  #Test Embeddings:\n",
        "  test_embeddings = []\n",
        "  for n in range(0, 5000, 250):  \n",
        "    sents = test_sentences[n:n+250]\n",
        "    bert_test_document_embeddings.embed(sents)\n",
        "    test_embeddings += [np.array(sentence.get_embedding().detach()) for sentence in sents]\n",
        "\n",
        "  clf_b = DecisionTreeClassifier(max_depth=5, random_state=0)\n",
        "  clf_b.fit(train_embeddings[:5000], train_labels[:5000])\n",
        "\n",
        "  predicted_labels = clf_b.predict(test_embeddings[0:5000])\n",
        "  end_time = datetime.now()\n",
        "  \n",
        "  print('Bert - round', count+1, ': Accuracy =',\n",
        "        accuracy_score(predicted_labels[0:len(test_labels)], test_labels[0:len(test_labels)]),\n",
        "        '\\t F1 =', f1_score(predicted_labels[0:len(test_labels)], test_labels[0:len(test_labels)],\n",
        "                           average='weighted',labels=np.unique(predicted_labels)),\n",
        "         '\\t Time =', end_time-start_time)\n",
        "\n",
        "print('**********************************************************************')\n",
        "\n",
        "# ELMo\n",
        "\n",
        "for count in range (30):\n",
        "  start_time = datetime.now()\n",
        "  train_sentences = []\n",
        "  train_labels = []\n",
        "  test_sentences = []\n",
        "  test_labels = []\n",
        "  for row in data.itertuples():\n",
        "    count_id = int(row.no)\n",
        "    sentence = Sentence(row.text)\n",
        "    label = row.label\n",
        "    if count_id == count:\n",
        "      test_sentences.append(sentence)\n",
        "      test_labels.append(label)\n",
        "    else:\n",
        "      train_sentences.append(sentence)\n",
        "      train_labels.append(label)\n",
        "\n",
        "  #Training Embeddings:\n",
        "  train_embeddings = []\n",
        "  # since processing requires some memory we provide sentences into the document embedder in batches (small parts)\n",
        "  for n in range(0, 5000, 250):  \n",
        "    sents = train_sentences[n:n+250]\n",
        "    elmo_train_document_embeddings.embed(sents)\n",
        "    train_embeddings += [np.array(sentence.get_embedding().detach()) for sentence in sents]\n",
        "\n",
        "  #Test Embeddings:\n",
        "  test_embeddings = []\n",
        "  for n in range(0, 5000, 250):  \n",
        "    sents = test_sentences[n:n+250]\n",
        "    elmo_test_document_embeddings.embed(sents)\n",
        "    test_embeddings += [np.array(sentence.get_embedding().detach()) for sentence in sents]\n",
        "\n",
        "  clf_f = DecisionTreeClassifier(max_depth=5, random_state=0)\n",
        "  clf_f.fit(train_embeddings[:5000], train_labels[:5000])\n",
        "\n",
        "  predicted_labels = clf_f.predict(test_embeddings[0:5000])\n",
        "  end_time = datetime.now()\n",
        "  print('ELMo - round', count+1, ': Accuracy =',\n",
        "        accuracy_score(predicted_labels[0:len(test_labels)], test_labels[0:len(test_labels)]),\n",
        "        '\\t F1 =', f1_score(predicted_labels[0:len(test_labels)], test_labels[0:len(test_labels)],\n",
        "                           average='weighted',labels=np.unique(predicted_labels)),\n",
        "         '\\t Time =', end_time-start_time)\n",
        "  print('**********************************************************************')\n",
        "\n",
        "  # Flair\n",
        "\n",
        "for count in range (30):\n",
        "  start_time = datetime.now()\n",
        "  train_sentences = []\n",
        "  train_labels = []\n",
        "  test_sentences = []\n",
        "  test_labels = []\n",
        "  for row in data.itertuples():\n",
        "    count_id = int(row.no)\n",
        "    sentence = Sentence(row.text)\n",
        "    label = row.label\n",
        "    if count_id == count:\n",
        "      test_sentences.append(sentence)\n",
        "      test_labels.append(label)\n",
        "    else:\n",
        "      train_sentences.append(sentence)\n",
        "      train_labels.append(label)\n",
        "\n",
        "  #Training Embeddings:\n",
        "  train_embeddings = []\n",
        "  # since processing requires some memory we provide sentences into the document embedder in batches (small parts)\n",
        "  for n in range(0, 5000, 250):  \n",
        "    sents = train_sentences[n:n+250]\n",
        "    flair_train_document_embeddings.embed(sents)\n",
        "    train_embeddings += [np.array(sentence.get_embedding().detach()) for sentence in sents]\n",
        "\n",
        "  #Test Embeddings:\n",
        "  test_embeddings = []\n",
        "  for n in range(0, 5000, 250):  \n",
        "    sents = test_sentences[n:n+250]\n",
        "    flair_test_document_embeddings.embed(sents)\n",
        "    test_embeddings += [np.array(sentence.get_embedding().detach()) for sentence in sents]\n",
        "\n",
        "  clf_f = DecisionTreeClassifier(max_depth=5, random_state=0)\n",
        "  clf_f.fit(train_embeddings[:5000], train_labels[:5000])\n",
        "\n",
        "  predicted_labels = clf_f.predict(test_embeddings[0:5000])\n",
        "  end_time = datetime.now()\n",
        "  print('Flair - round', count+1, ': Accuracy =',\n",
        "        accuracy_score(predicted_labels[0:len(test_labels)], test_labels[0:len(test_labels)]),\n",
        "        '\\t F1 =', f1_score(predicted_labels[0:len(test_labels)], test_labels[0:len(test_labels)],\n",
        "                           average='weighted',labels=np.unique(predicted_labels)),\n",
        "         '\\t Time =', end_time-start_time)\n",
        "  \n",
        "  print('**********************************************************************')\n"
      ],
      "execution_count": 0,
      "outputs": [
        {
          "output_type": "stream",
          "text": [
            "Bert - round 1 : Accuracy = 0.19161676646706588 \t F1 = 0.24987725698029228 \t Time = 0:11:09.161743\n",
            "Bert - round 2 : Accuracy = 0.17964071856287425 \t F1 = 0.2422916732495663 \t Time = 0:10:58.541371\n",
            "Bert - round 3 : Accuracy = 0.17365269461077845 \t F1 = 0.2272430346919666 \t Time = 0:10:48.293570\n",
            "Bert - round 4 : Accuracy = 0.15568862275449102 \t F1 = 0.20711688807646048 \t Time = 0:10:56.013347\n",
            "Bert - round 5 : Accuracy = 0.16766467065868262 \t F1 = 0.21699559067843097 \t Time = 0:10:49.275651\n",
            "Bert - round 6 : Accuracy = 0.19760479041916168 \t F1 = 0.24300271506270563 \t Time = 0:10:43.144606\n",
            "Bert - round 7 : Accuracy = 0.2275449101796407 \t F1 = 0.28556666428477734 \t Time = 0:10:45.909573\n",
            "Bert - round 8 : Accuracy = 0.20359281437125748 \t F1 = 0.2500518025532513 \t Time = 0:10:41.883465\n",
            "Bert - round 9 : Accuracy = 0.17365269461077845 \t F1 = 0.23147999900377503 \t Time = 0:10:43.765307\n",
            "Bert - round 10 : Accuracy = 0.23952095808383234 \t F1 = 0.33411393241391785 \t Time = 0:10:42.660516\n",
            "Bert - round 11 : Accuracy = 0.281437125748503 \t F1 = 0.35819260122510854 \t Time = 0:10:51.463365\n",
            "Bert - round 12 : Accuracy = 0.2215568862275449 \t F1 = 0.2974245902408565 \t Time = 0:10:37.048864\n",
            "Bert - round 13 : Accuracy = 0.23353293413173654 \t F1 = 0.3018110976832949 \t Time = 0:10:44.197826\n",
            "Bert - round 14 : Accuracy = 0.2215568862275449 \t F1 = 0.3016724958299063 \t Time = 0:10:46.602934\n",
            "Bert - round 15 : Accuracy = 0.16167664670658682 \t F1 = 0.21213865175826838 \t Time = 0:10:38.462412\n",
            "Bert - round 16 : Accuracy = 0.19161676646706588 \t F1 = 0.2639771255746852 \t Time = 0:10:39.470759\n",
            "Bert - round 17 : Accuracy = 0.19760479041916168 \t F1 = 0.2813240186294078 \t Time = 0:10:40.315733\n",
            "Bert - round 18 : Accuracy = 0.17964071856287425 \t F1 = 0.23156121783852146 \t Time = 0:10:45.144333\n",
            "Bert - round 19 : Accuracy = 0.16766467065868262 \t F1 = 0.22382954729036555 \t Time = 0:10:41.284688\n",
            "Bert - round 20 : Accuracy = 0.18674698795180722 \t F1 = 0.24669400192130647 \t Time = 0:10:44.297762\n",
            "Bert - round 21 : Accuracy = 0.20481927710843373 \t F1 = 0.26395450469796633 \t Time = 0:10:41.078225\n",
            "Bert - round 22 : Accuracy = 0.2289156626506024 \t F1 = 0.3161123194603974 \t Time = 0:10:40.480284\n",
            "Bert - round 23 : Accuracy = 0.1746987951807229 \t F1 = 0.22256264458933364 \t Time = 0:10:42.396942\n",
            "Bert - round 24 : Accuracy = 0.21084337349397592 \t F1 = 0.27585346380527104 \t Time = 0:10:44.133685\n",
            "Bert - round 25 : Accuracy = 0.18674698795180722 \t F1 = 0.23648679865973163 \t Time = 0:10:39.624723\n",
            "Bert - round 26 : Accuracy = 0.18072289156626506 \t F1 = 0.25725623629346545 \t Time = 0:10:43.513267\n",
            "Bert - round 27 : Accuracy = 0.1927710843373494 \t F1 = 0.24527047369108687 \t Time = 0:10:44.242483\n",
            "Bert - round 28 : Accuracy = 0.21084337349397592 \t F1 = 0.2810376782643059 \t Time = 0:10:40.956391\n",
            "Bert - round 29 : Accuracy = 0.13253012048192772 \t F1 = 0.16947045146530393 \t Time = 0:10:45.205518\n",
            "Bert - round 30 : Accuracy = 0.1686746987951807 \t F1 = 0.22523964419580575 \t Time = 0:10:45.663380\n",
            "**********************************************************************\n"
          ],
          "name": "stdout"
        }
      ]
    }
  ]
}